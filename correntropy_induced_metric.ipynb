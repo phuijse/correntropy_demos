{
 "cells": [
  {
   "cell_type": "markdown",
   "metadata": {},
   "source": [
    "# The Correntropy Induced Metric\n",
    "\n",
    "Correntropy is a generalized correlation. In this demo we show the correntropy induced metric\n",
    "$$\n",
    "CIM(X,Y) = \\sqrt{G_{\\sigma}(0.0) - \\frac{1}{N} \\sum_{i=1}^N G_{\\sigma} (x_i - y_i)},\n",
    "$$\n",
    "where $G_{\\sigma}(\\cdot)$ is the Gaussian kernel. The CIM has a parameter, the kernel bandwidth, which controls how \"distance\" between random variables X and Y is measured. The CIM transistions from L2 to L1 and finally to L0 in the space of the error E=X-Y. In this example this is shown with synthetic two dimensional data.\n"
   ]
  },
  {
   "cell_type": "code",
   "execution_count": 1,
   "metadata": {
    "collapsed": true
   },
   "outputs": [],
   "source": [
    "import numpy as np\n",
    "import matplotlib.pylab as plt\n",
    "import ipywidgets as widgets\n",
    "from IPython.display import display, clear_output"
   ]
  },
  {
   "cell_type": "code",
   "execution_count": 2,
   "metadata": {
    "collapsed": false
   },
   "outputs": [],
   "source": [
    "nx, ny = (100, 100)\n",
    "x1 = np.linspace(-2.0, 2.0, nx)\n",
    "x2 = np.linspace(-2.0, 2.0, ny)\n",
    "X1, X2 = np.meshgrid(x1, x2)\n",
    "\n",
    "def CIM(x1, x2, ks):\n",
    "    N = len(x1)\n",
    "    CIM = np.zeros(shape=(N, N))\n",
    "    for i in range(N):\n",
    "        for j in range(N):\n",
    "            CIM[i, j] = np.sqrt(1.0 - np.exp(-0.5*x1[i]**2/ks**2)/2 - np.exp(-0.5*x2[j]**2/ks**2)/2)\n",
    "    return CIM"
   ]
  },
  {
   "cell_type": "code",
   "execution_count": 6,
   "metadata": {
    "collapsed": false
   },
   "outputs": [
    {
     "data": {
      "image/png": "[encoded data removed]",
      "text/plain": [
       "<matplotlib.figure.Figure at 0x7fc1a82b4748>"
      ]
     },
     "metadata": {},
     "output_type": "display_data"
    }
   ],
   "source": [
    "slider_ks = widgets.FloatSlider(description='Kernel size', value=1.0, \n",
    "                                min=0.1, max=2.0, step=0.1, continuous_update=False)\n",
    "slider_ks.layout.width='60%'\n",
    "plt.close()\n",
    "display(slider_ks)\n",
    "fig = plt.figure()\n",
    "ax = fig.add_subplot(1, 1, 1)\n",
    "cim = CIM(x1, x2, slider_ks.value)\n",
    "cm = ax.contourf(X1, X2, cim, cmap=plt.cm.plasma_r,\n",
    "                levels=np.linspace(np.amin(cim), np.amax(cim), 20))\n",
    "#cb = plt.colorbar(cm)\n",
    "display(fig)\n",
    "\n",
    "def callback_ks(change):\n",
    "    ks = change['new']\n",
    "    ax.clear()\n",
    "    cim = CIM(x1, x2, ks)\n",
    "    cm = ax.contourf(X1, X2, cim, cmap=plt.cm.plasma_r, \n",
    "                     levels=np.linspace(np.amin(cim), np.amax(cim), 20))\n",
    "    #cb.on_mappable_changed(cm)\n",
    "    clear_output(wait=True)\n",
    "    display(fig)\n",
    "    \n",
    "slider_ks.observe(callback_ks, names='value')"
   ]
  },
  {
   "cell_type": "markdown",
   "metadata": {
    "collapsed": true
   },
   "source": [
    "## Notes\n",
    "- For large kernel size the CIM tends to the L2 metric \n",
    "- For very small kernel size the CIM tends to the L0 norm"
   ]
  },
  {
   "cell_type": "code",
   "execution_count": null,
   "metadata": {
    "collapsed": true
   },
   "outputs": [],
   "source": []
  }
 ],
 "metadata": {
  "anaconda-cloud": {},
  "kernelspec": {
   "display_name": "Python 3",
   "language": "python",
   "name": "python3"
  },
  "language_info": {
   "codemirror_mode": {
    "name": "ipython",
    "version": 3
   },
   "file_extension": ".py",
   "mimetype": "text/x-python",
   "name": "python",
   "nbconvert_exporter": "python",
   "pygments_lexer": "ipython3",
   "version": "3.5.2"
  },
  "widgets": {
   "state": {
    "fd173fda847e4980a8477e7fc8c95b29": {
     "views": [
      {
       "cell_index": 3
      }
     ]
    }
   },
   "version": "1.2.0"
  }
 },
 "nbformat": 4,
 "nbformat_minor": 1
}
